{
  "nbformat": 4,
  "nbformat_minor": 0,
  "metadata": {
    "colab": {
      "provenance": [],
      "authorship_tag": "ABX9TyO0SssILC8qIcNlQMsYBcfB",
      "include_colab_link": true
    },
    "kernelspec": {
      "name": "python3",
      "display_name": "Python 3"
    },
    "language_info": {
      "name": "python"
    }
  },
  "cells": [
    {
      "cell_type": "markdown",
      "metadata": {
        "id": "view-in-github",
        "colab_type": "text"
      },
      "source": [
        "<a href=\"https://colab.research.google.com/github/Mcarre027/G-rer-automatiquement-vos-fichiers-.zip/blob/main/G%C3%A9rer_automatiquement_vos_fichiers_zip.ipynb\" target=\"_parent\"><img src=\"https://colab.research.google.com/assets/colab-badge.svg\" alt=\"Open In Colab\"/></a>"
      ]
    },
    {
      "cell_type": "code",
      "execution_count": null,
      "metadata": {
        "id": "3Xxm4dH-mH0_"
      },
      "outputs": [],
      "source": [
        "import zipfile\n",
        "import os\n",
        "import shutil\n",
        "\n",
        "# 1. Chemin vers ton fichier .zip\n",
        "chemin_zip = \"documents_a_traiter/mon_archive.zip\"\n",
        "\n",
        "# 2. Dossier de destination pour les fichiers extraits\n",
        "dossier_destination = \"documents_extraits\"\n",
        "os.makedirs(dossier_destination, exist_ok=True)\n",
        "\n",
        "# 3. On extrait le .zip\n",
        "with zipfile.ZipFile(chemin_zip, 'r') as zip_ref:\n",
        "    zip_ref.extractall(dossier_destination)\n",
        "print(\"📦 Fichiers extraits avec succès !\")\n",
        "\n",
        "# 4. On crée des dossiers par type de fichier (PDF, Excel, Images, etc.)\n",
        "extensions_dossiers = {\n",
        "    \".pdf\": \"PDF\",\n",
        "    \".xlsx\": \"Excel\",\n",
        "    \".xls\": \"Excel\",\n",
        "    \".csv\": \"Excel\",\n",
        "    \".jpg\": \"Images\",\n",
        "    \".jpeg\": \"Images\",\n",
        "    \".png\": \"Images\",\n",
        "    \".docx\": \"Word\",\n",
        "    \".txt\": \"Texte\",\n",
        "}\n",
        "\n",
        "# 5. On classe les fichiers automatiquement\n",
        "for fichier in os.listdir(dossier_destination):\n",
        "    chemin_fichier = os.path.join(dossier_destination, fichier)\n",
        "    if os.path.isfile(chemin_fichier):\n",
        "        ext = os.path.splitext(fichier)[1].lower()\n",
        "        dossier_type = extensions_dossiers.get(ext, \"Autres\")\n",
        "        chemin_dossier = os.path.join(dossier_destination, dossier_type)\n",
        "        os.makedirs(chemin_dossier, exist_ok=True)\n",
        "        shutil.move(chemin_fichier, os.path.join(chemin_dossier, fichier))\n",
        "\n",
        "print(\"📂 Classement terminé par type de fichier !\")\n"
      ]
    }
  ]
}